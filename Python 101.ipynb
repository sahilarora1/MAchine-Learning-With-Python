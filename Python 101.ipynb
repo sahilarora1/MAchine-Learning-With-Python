{
 "cells": [
  {
   "cell_type": "markdown",
   "metadata": {},
   "source": [
    "# Getting Started With Python\n",
    "\n",
    "## Defining Variables\n"
   ]
  },
  {
   "cell_type": "code",
   "execution_count": 23,
   "metadata": {
    "scrolled": true
   },
   "outputs": [
    {
     "name": "stdout",
     "output_type": "stream",
     "text": [
      "Value of var1:  2\n",
      "Value of var2:  5.0\n",
      "Value of var3:  False\n",
      "Value of var4:  Machine Learning\n",
      "\n",
      "\n",
      "Type of var1: <class 'int'>\n",
      "Type of var2: <class 'float'>\n",
      "Type of var3: <class 'bool'>\n",
      "Type of var4: <class 'str'>\n"
     ]
    }
   ],
   "source": [
    "# Python supports four data types : Integer, String, Boolean and float\n",
    "\n",
    "var1=2\n",
    "var2=5.0\n",
    "var3=False\n",
    "var4=\"Machine Learning\"\n",
    "\n",
    "print(\"Value of var1: \",var1)\n",
    "print(\"Value of var2: \",var2)\n",
    "print(\"Value of var3: \",var3)\n",
    "print(\"Value of var4: \",var4)\n",
    "\n",
    "\n",
    "## Checking the type of each variable: Python has a method type()\n",
    "\n",
    "print('\\n')\n",
    "print(\"Type of var1:\",type(var1))\n",
    "print(\"Type of var2:\",type(var2))\n",
    "print(\"Type of var3:\",type(var3))\n",
    "print(\"Type of var4:\",type(var4))\n",
    "\n",
    "\n"
   ]
  },
  {
   "cell_type": "markdown",
   "metadata": {},
   "source": [
    "## Conditional Statements"
   ]
  },
  {
   "cell_type": "code",
   "execution_count": 41,
   "metadata": {},
   "outputs": [
    {
     "name": "stdout",
     "output_type": "stream",
     "text": [
      "Enter the value of var11\n",
      "\n",
      " equal to 1\n",
      "\n",
      " False\n"
     ]
    }
   ],
   "source": [
    "# Simple condition 1\n",
    "\n",
    "##Redefine Var1 to check the implementation of the code\n",
    "##The input function by default inputs a string value. Its important to convert it to string first\n",
    "\n",
    "var1=int(input(\"Enter the value of var1\"))\n",
    "\n",
    "if var1 >1:\n",
    "    print(\"\\n Bigger than 1\")\n",
    "elif var1==1:\n",
    "    print(\"\\n equal to 1\")\n",
    "else:\n",
    "    print(\"\\n smaller than 1\")\n",
    "    \n",
    "# Ternary operators as conditional statement     \n",
    "\n",
    "isgreater= True if var1>1 else False\n",
    "\n",
    "print(\"\\n\",isgreater)\n"
   ]
  },
  {
   "cell_type": "markdown",
   "metadata": {},
   "source": [
    "## Generating Sequence of Numbers"
   ]
  },
  {
   "cell_type": "code",
   "execution_count": 46,
   "metadata": {},
   "outputs": [
    {
     "name": "stdout",
     "output_type": "stream",
     "text": [
      "range(1, 6)\n",
      "5\n",
      "<class 'range'>\n",
      "1\n"
     ]
    }
   ],
   "source": [
    "## Initializing the sequence of numbers with [a,b)\n",
    "numbers= range(1,6)\n",
    "print(numbers)\n",
    "print(len(numbers))\n",
    "print(type(numbers))\n",
    "\n",
    "#Range is a variable type in python, its similar to a list and it's elements can also be accessed through\n",
    "#list operations\n",
    "\n",
    "print(numbers[0])"
   ]
  },
  {
   "cell_type": "markdown",
   "metadata": {},
   "source": [
    "## Control Flow Statement"
   ]
  },
  {
   "cell_type": "code",
   "execution_count": 57,
   "metadata": {},
   "outputs": [
    {
     "name": "stdout",
     "output_type": "stream",
     "text": [
      "1\n",
      "2\n",
      "3\n",
      "4\n",
      "5\n",
      "1\n",
      "2\n",
      "3\n",
      "4\n",
      "5\n",
      "6\n",
      "final value of i is 7\n"
     ]
    }
   ],
   "source": [
    "## For loop\n",
    "\n",
    "for i in numbers: # numbers is supposed to be a range\n",
    "    print(i)\n",
    "    \n",
    "## While loop\n",
    "\n",
    "## Initialize value of i\n",
    "i=1 \n",
    "while i<7:\n",
    "    print(i)\n",
    "    i=i+1\n",
    "\n",
    "print(\"final value of i is\", i)\n",
    "    \n",
    "\n"
   ]
  },
  {
   "cell_type": "markdown",
   "metadata": {},
   "source": [
    "## Functions Define"
   ]
  },
  {
   "cell_type": "code",
   "execution_count": 55,
   "metadata": {},
   "outputs": [
    {
     "name": "stdout",
     "output_type": "stream",
     "text": [
      "5 \n",
      " (5, 4)\n",
      "<class 'int'> \n",
      " <class 'tuple'>\n"
     ]
    }
   ],
   "source": [
    "# Returning only one value\n",
    "\n",
    "def addelements(a,b):\n",
    "    return a+b\n",
    "\n",
    "## Returning 2 values\n",
    "def addelements_v2(a,b):\n",
    "    total=a+b\n",
    "    prod=a*b\n",
    "    return total,prod\n",
    "\n",
    "add1=addelements(1,4)\n",
    "add2=addelements_v2(1,4)\n",
    "\n",
    "print(add1,\"\\n\",add2)\n",
    "print(type(add1),\"\\n\",type(add2))\n",
    "\n",
    "## If multiple values are returned from function, they are stored in a tuple\n",
    "\n"
   ]
  },
  {
   "cell_type": "markdown",
   "metadata": {},
   "source": [
    "## Working with Collections : List, Tuple, Dictionary & Sets"
   ]
  },
  {
   "cell_type": "code",
   "execution_count": 89,
   "metadata": {},
   "outputs": [
    {
     "name": "stdout",
     "output_type": "stream",
     "text": [
      "Rohit\n",
      "Dhawan\n",
      "Dhoni\n",
      "['Rohit', 'Dhawan']\n",
      "6\n",
      "['Rohit', 'Dhawan', 'Kohli', 'Rahane', 'Rayudu', 'Dhoni', 'Bumrah', 'Jadeja', 'Shami', 'Bhuvi', 'Chahal']\n",
      "True\n",
      "6\n",
      "None\n",
      "\n",
      "\n",
      " ['Chahal', 'Bhuvi', 'Shami', 'Jadeja', 'Bumrah', 'Dhoni', 'Rayudu', 'Rahane', 'Kohli', 'Dhawan', 'Rohit']\n",
      "['Rohit', 'Dhawan', 'Kohli', 'Rahane', 'Rayudu', 'Dhoni', 'Bumrah', 'Jadeja', 'Shami', 'Bhuvi', 'Chahal']\n",
      "\n",
      "\n",
      " {1, 2, 3, 4, 5, 6, 7}    Notice duplicate elements are removed from the initialization\n",
      "{10, 20} {2, 4, 6, 8, 12, 14, 16, 18} {2, 4, 5, 6, 8, 10, 12, 14, 15, 16, 18, 20}\n"
     ]
    }
   ],
   "source": [
    "    ## Lists are like C++ Arrays but can contain heterogenous elements as well. A list can have float, character or objects\n",
    "    ## Lists are mutable\n",
    "\n",
    "    ## Creating an empty list\n",
    "\n",
    "    empty_list =[]\n",
    "\n",
    "    batsmen = [\"Rohit\",\"Dhawan\",\"Kohli\",\"Rahane\",\"Rayudu\",\"Dhoni\"]\n",
    "\n",
    "    ## Indexing starts from '0'\n",
    "    print(batsmen[0])\n",
    "    print(batsmen[1])\n",
    "    print(batsmen[-1])\n",
    "\n",
    "    ## Slicing a list\n",
    "    openers=batsmen[0:2] ## Notice that the last element is not included i.e. [0:2] means [0,2)\n",
    "    print(sliced_list)\n",
    "\n",
    "    ## Elements count in the list\n",
    "    print(len(batsmen))\n",
    "\n",
    "    bowler=[\"Bumrah\",\"Jadeja\",\"Shami\",\"Bhuvi\",\"Chahal\"]\n",
    "\n",
    "    ## Adding two list = concatinating them\n",
    "\n",
    "    team=batsmen+bowler\n",
    "    print(team)\n",
    "\n",
    "    #finding the element in list\n",
    "    a=\"Bumrah\" in team\n",
    "    print(a)\n",
    "\n",
    "    ## Finding the index of the item\n",
    "\n",
    "    print(team.index(\"Bumrah\"))\n",
    "\n",
    "    ## This doesn't work as reverse just reverses the list but doesn't create another list\n",
    "\n",
    "    x= team.reverse()\n",
    "    print(x)\n",
    "\n",
    "    ## Used reversed list\n",
    "\n",
    "    print(\"\\n\\n\",team )\n",
    "\n",
    "    y= list(reversed(team)) ## list() changes the type of the object \n",
    "\n",
    "    print (y)\n",
    "\n",
    "\n",
    "    ## Tuples are similar to list but are immutable data types\n",
    "\n",
    "    tuple_1 = tuple(team)\n",
    "    #tuple_1[1]=\"Sahil\" # This statement throws an error\n",
    "\n",
    "    ## Sets are collection of unique elements and are unordered\n",
    "\n",
    "    set_1 = {1,2,3,4,5,6,7,1,2,3,4}\n",
    "\n",
    "    print(\"\\n\\n\",set_1,\"   Notice duplicate elements are removed from the initialization\")\n",
    "\n",
    "    multiple_2 = {2,4,6,8,10,12,14,16,18,20}\n",
    "\n",
    "    multiple_5 = {5,10,15,20}\n",
    "\n",
    "    ## Taking union\n",
    "\n",
    "    multiple_2_or_5 = multiple_2.union(multiple_5)\n",
    "\n",
    "    multiple_2_and_5 = multiple_2.intersection(multiple_5)\n",
    "\n",
    "    multiple_2_not_5 = multiple_2.difference(multiple_5)\n",
    "\n",
    "    print(multiple_2_and_5,multiple_2_not_5,multiple_2_or_5)\n",
    "\n",
    "\n",
    "    ## Dictionaries are the Key:Value pairs. The values can be accessed by passing the key as the input parameter.\n",
    "\n",
    "    wc_winners = {\n",
    "\n",
    "\n",
    "    }\n",
    "\n",
    "\n"
   ]
  }
 ],
 "metadata": {
  "kernelspec": {
   "display_name": "Python 3",
   "language": "python",
   "name": "python3"
  },
  "language_info": {
   "codemirror_mode": {
    "name": "ipython",
    "version": 3
   },
   "file_extension": ".py",
   "mimetype": "text/x-python",
   "name": "python",
   "nbconvert_exporter": "python",
   "pygments_lexer": "ipython3",
   "version": "3.7.3"
  }
 },
 "nbformat": 4,
 "nbformat_minor": 2
}
